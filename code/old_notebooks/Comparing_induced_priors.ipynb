{
 "cells": [
  {
   "cell_type": "markdown",
   "metadata": {},
   "source": [
    "## Background\n",
    "\n",
    "Here's the setup: we pick $k_\\beta$, $\\theta_\\beta$, $k_\\gamma$ and $\\theta_\\gamma$, with $N$ being the population size. \n",
    "We then look at what the induced Gamma ratio on $R_0$ looks like. \n",
    "\n",
    "In addition, we create moment-matching log-normal priors on $(\\beta, \\gamma)$ and look at the induced log-normal on $R_0$."
   ]
  },
  {
   "cell_type": "code",
   "execution_count": 14,
   "metadata": {},
   "outputs": [],
   "source": [
    "source(\"gamma_ratio.R\")"
   ]
  },
  {
   "cell_type": "code",
   "execution_count": 15,
   "metadata": {},
   "outputs": [],
   "source": [
    "## Hyper parameters\n",
    "k_beta <- 1\n",
    "theta_beta <- 1\n",
    "k_gamma <-  2.5\n",
    "theta_gamma <- 1/10\n",
    "N <- 1"
   ]
  },
  {
   "cell_type": "code",
   "execution_count": 16,
   "metadata": {},
   "outputs": [],
   "source": [
    "source(\"utils.r\")"
   ]
  },
  {
   "cell_type": "code",
   "execution_count": 17,
   "metadata": {},
   "outputs": [],
   "source": [
    "pars.beta <- pars_mm_lognormal(k = k_beta, theta = theta_beta)\n",
    "pars.gamma <- pars_mm_lognormal(k = k_gamma, theta = theta_gamma)\n",
    "\n",
    "mu_beta <- pars.beta$mu\n",
    "sd_beta <- pars.beta$sigma\n",
    "mu_gamma <- pars.gamma$mu\n",
    "sd_gamma <- pars.gamma$sigma\n",
    "\n",
    "mu_r <- log(N) + mu_beta - mu_gamma\n",
    "sd_r <- sqrt(sd_beta^2 + sd_gamma^2)"
   ]
  },
  {
   "cell_type": "markdown",
   "metadata": {},
   "source": [
    "## Moments"
   ]
  },
  {
   "cell_type": "markdown",
   "metadata": {},
   "source": [
    "### Mean and variance of gammas for the rates\n",
    "\n",
    "First, $\\beta$"
   ]
  },
  {
   "cell_type": "code",
   "execution_count": 18,
   "metadata": {},
   "outputs": [
    {
     "name": "stdout",
     "output_type": "stream",
     "text": [
      "E[beta]= 1 \n",
      "Var(beta)= 1"
     ]
    }
   ],
   "source": [
    "cat(\"E[beta]=\", k_beta * theta_beta, \"\\n\")\n",
    "cat(\"Var(beta)=\", k_beta * theta_beta^2)"
   ]
  },
  {
   "cell_type": "markdown",
   "metadata": {},
   "source": [
    "And now $\\gamma$"
   ]
  },
  {
   "cell_type": "code",
   "execution_count": 19,
   "metadata": {},
   "outputs": [
    {
     "name": "stdout",
     "output_type": "stream",
     "text": [
      "E[gamma]= 1 \n",
      "Var(gamma)= 1"
     ]
    }
   ],
   "source": [
    "cat(\"E[gamma]=\", k_gamma * theta_gamma, \"\\n\")\n",
    "cat(\"Var(gamma)=\", k_gamma * theta_gamma^2)"
   ]
  },
  {
   "cell_type": "markdown",
   "metadata": {},
   "source": [
    "### Mean and variance of moment-matching log-normals for the rates"
   ]
  },
  {
   "cell_type": "code",
   "execution_count": 20,
   "metadata": {},
   "outputs": [
    {
     "name": "stdout",
     "output_type": "stream",
     "text": [
      "E[beta]= 1 \n",
      "Var(beta)= 1 \n",
      "E[gamma]= 1 \n",
      "Var(gamma)= 1"
     ]
    }
   ],
   "source": [
    "cat(\"E[beta]=\", exp(mu_beta + .5 * sd_beta^2), \"\\n\")\n",
    "cat(\"Var(beta)=\", (exp(sd_beta^2) - 1) * exp(2*mu_beta + sd_beta^2), \"\\n\") \n",
    "cat(\"E[gamma]=\", exp(mu_gamma + .5 * sd_gamma^2), \"\\n\")\n",
    "cat(\"Var(gamma)=\", (exp(sd_gamma^2) - 1) * exp(2*mu_gamma + sd_gamma^2) )"
   ]
  },
  {
   "cell_type": "markdown",
   "metadata": {},
   "source": [
    "### Mean and variance of R0 under the Gamma ratio\n",
    "\n",
    "**NOTICE**: Under the Gamma ratio, $E[R_0]$ does not exist for $k_\\gamma > 1$ and $\\text{Var}(R_0)$ only exists for $k_\\gamma > 2$."
   ]
  },
  {
   "cell_type": "code",
   "execution_count": 21,
   "metadata": {},
   "outputs": [
    {
     "name": "stdout",
     "output_type": "stream",
     "text": [
      "E[R0]= Inf \n",
      "Var(R0)= -Inf"
     ]
    }
   ],
   "source": [
    "cat(\"E[R0]=\", get_GR_mean(k1 = k_beta, t1 = theta_beta, k2 = k_gamma, t2 = theta_gamma, N = N) , \"\\n\")\n",
    "cat(\"Var(R0)=\", get_GR_var(k1 = k_beta, t1 = theta_beta, k2 = k_gamma, t2 = theta_gamma, N = N) ) "
   ]
  },
  {
   "cell_type": "markdown",
   "metadata": {},
   "source": [
    "### Mean and variance of R0 under the log-normal"
   ]
  },
  {
   "cell_type": "code",
   "execution_count": 22,
   "metadata": {},
   "outputs": [
    {
     "name": "stdout",
     "output_type": "stream",
     "text": [
      "E[R0]= 2 \n",
      "Var(R0)= 12"
     ]
    }
   ],
   "source": [
    "cat(\"E[R0]=\", exp(mu_r + .5 * sd_r^2) , \"\\n\")\n",
    "cat(\"Var(R0)=\", (exp(sd_r^2) - 1) * exp(2*mu_r + sd_r^2) ) "
   ]
  },
  {
   "cell_type": "markdown",
   "metadata": {},
   "source": [
    "## Densities"
   ]
  },
  {
   "cell_type": "code",
   "execution_count": 23,
   "metadata": {},
   "outputs": [
    {
     "data": {
      "image/png": "[encoded data removed]",
      "text/plain": [
       "plot without title"
      ]
     },
     "metadata": {},
     "output_type": "display_data"
    }
   ],
   "source": [
    "Rmax <- 10\n",
    "curve(dgamma.ratio(x, k1 = k_beta, t1 = theta_beta, k2 = k_gamma, t2 = theta_gamma, N = N),\n",
    "      0, Rmax, lwd = 3, ylab = \"Density\", xlab = expression(R[0]))\n",
    "curve(dlnorm(x, meanlog = mu_r, sdlog = sd_r), col = 2, lwd = 3, add = TRUE)\n",
    "legend(x = \"topright\", legend = c(\"Gamma ratio\", \"Log-normal\"), col = 1:2, lty = 1, bty = 'n')"
   ]
  },
  {
   "cell_type": "markdown",
   "metadata": {},
   "source": [
    "## Tail probabilities"
   ]
  },
  {
   "cell_type": "code",
   "execution_count": 24,
   "metadata": {},
   "outputs": [
    {
     "name": "stderr",
     "output_type": "stream",
     "text": [
      "Warning message in BAS::hypergeometric2F1(k1 + k2, k1, k1 + 1, -t2/(t1 * N) * q):\n",
      "“integral in 2F1 diverges”"
     ]
    },
    {
     "data": {
      "text/html": [
       "1"
      ],
      "text/latex": [
       "1"
      ],
      "text/markdown": [
       "1"
      ],
      "text/plain": [
       "[1] 1"
      ]
     },
     "metadata": {},
     "output_type": "display_data"
    }
   ],
   "source": [
    "pgamma.ratio.exact(q = 5, k1 = k_beta, t1 = theta_beta, k2 = k_gamma, t2 = theta_gamma, N = N)"
   ]
  },
  {
   "cell_type": "code",
   "execution_count": 25,
   "metadata": {},
   "outputs": [
    {
     "data": {
      "text/html": [
       "0.914176486731249"
      ],
      "text/latex": [
       "0.914176486731249"
      ],
      "text/markdown": [
       "0.914176486731249"
      ],
      "text/plain": [
       "[1] 0.9141765"
      ]
     },
     "metadata": {},
     "output_type": "display_data"
    }
   ],
   "source": [
    "plnorm(q = 5, meanlog = mu_r, sdlog = sd_r)"
   ]
  },
  {
   "cell_type": "code",
   "execution_count": null,
   "metadata": {},
   "outputs": [],
   "source": []
  }
 ],
 "metadata": {
  "kernelspec": {
   "display_name": "R",
   "language": "R",
   "name": "ir"
  },
  "language_info": {
   "codemirror_mode": "r",
   "file_extension": ".r",
   "mimetype": "text/x-r-source",
   "name": "R",
   "pygments_lexer": "r",
   "version": "3.6.0"
  }
 },
 "nbformat": 4,
 "nbformat_minor": 2
}
