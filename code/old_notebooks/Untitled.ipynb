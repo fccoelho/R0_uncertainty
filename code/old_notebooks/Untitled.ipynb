{
 "cells": [
  {
   "cell_type": "code",
   "execution_count": 2,
   "metadata": {},
   "outputs": [],
   "source": [
    "dataset<-read.csv(\"drdt.csv\")"
   ]
  },
  {
   "cell_type": "code",
   "execution_count": 4,
   "metadata": {},
   "outputs": [
    {
     "data": {
      "text/html": [
       "<table>\n",
       "<caption>A data.frame: 6 × 1</caption>\n",
       "<thead>\n",
       "\t<tr><th scope=col>X0.000000000000000000e.00</th></tr>\n",
       "\t<tr><th scope=col>&lt;dbl&gt;</th></tr>\n",
       "</thead>\n",
       "<tbody>\n",
       "\t<tr><td>0.0005676234</td></tr>\n",
       "\t<tr><td>0.0012936647</td></tr>\n",
       "\t<tr><td>0.0022211266</td></tr>\n",
       "\t<tr><td>0.0034039264</td></tr>\n",
       "\t<tr><td>0.0049091981</td></tr>\n",
       "\t<tr><td>0.0068197924</td></tr>\n",
       "</tbody>\n",
       "</table>\n"
      ],
      "text/latex": [
       "A data.frame: 6 × 1\n",
       "\\begin{tabular}{r|l}\n",
       " X0.000000000000000000e.00\\\\\n",
       " <dbl>\\\\\n",
       "\\hline\n",
       "\t 0.0005676234\\\\\n",
       "\t 0.0012936647\\\\\n",
       "\t 0.0022211266\\\\\n",
       "\t 0.0034039264\\\\\n",
       "\t 0.0049091981\\\\\n",
       "\t 0.0068197924\\\\\n",
       "\\end{tabular}\n"
      ],
      "text/markdown": [
       "\n",
       "A data.frame: 6 × 1\n",
       "\n",
       "| X0.000000000000000000e.00 &lt;dbl&gt; |\n",
       "|---|\n",
       "| 0.0005676234 |\n",
       "| 0.0012936647 |\n",
       "| 0.0022211266 |\n",
       "| 0.0034039264 |\n",
       "| 0.0049091981 |\n",
       "| 0.0068197924 |\n",
       "\n"
      ],
      "text/plain": [
       "  X0.000000000000000000e.00\n",
       "1 0.0005676234             \n",
       "2 0.0012936647             \n",
       "3 0.0022211266             \n",
       "4 0.0034039264             \n",
       "5 0.0049091981             \n",
       "6 0.0068197924             "
      ]
     },
     "metadata": {},
     "output_type": "display_data"
    }
   ],
   "source": [
    "head(dataset)"
   ]
  },
  {
   "cell_type": "code",
   "execution_count": null,
   "metadata": {},
   "outputs": [],
   "source": []
  }
 ],
 "metadata": {
  "kernelspec": {
   "display_name": "R",
   "language": "R",
   "name": "ir"
  },
  "language_info": {
   "codemirror_mode": "r",
   "file_extension": ".r",
   "mimetype": "text/x-r-source",
   "name": "R",
   "pygments_lexer": "r",
   "version": "3.4.4"
  }
 },
 "nbformat": 4,
 "nbformat_minor": 2
}
