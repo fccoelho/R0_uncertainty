{
 "cells": [
  {
   "cell_type": "code",
   "execution_count": 1,
   "metadata": {},
   "outputs": [],
   "source": [
    "library(outbreaks)\n",
    "data(influenza_england_1978_school)\n",
    "Ndata <- 763\n",
    "sol <- influenza_england_1978_school\n",
    "sol$time <- as.numeric(sol$date-min(sol$date)) + 2\n",
    "sol$I <- sol$in_bed\n",
    "forfit.sol <- sol\n",
    "noisy_I <- forfit.sol$I/Ndata\n",
    "iniTime <- 0\n",
    "iniI <- 1/Ndata"
   ]
  },
  {
   "cell_type": "code",
   "execution_count": 5,
   "metadata": {},
   "outputs": [
    {
     "data": {
      "image/png": "[encoded data removed]",
      "text/plain": [
       "plot without title"
      ]
     },
     "metadata": {},
     "output_type": "display_data"
    }
   ],
   "source": [
    "epi.data <- list(\n",
    "  n_obs = length(noisy_I),\n",
    "  t0 = iniTime,\n",
    "  ts = forfit.sol$time,\n",
    "  y_init = iniI,\n",
    "  y = noisy_I,\n",
    "  ab = 1,\n",
    "  bb = 0.010,\n",
    "  ag = 1,\n",
    "  bg = 0.010,\n",
    "#   mu_beta = 0,\n",
    "#   sigma_beta = 1,\n",
    "#   mu_gamma = 0,\n",
    "#   sigma_gamma = 1,\n",
    "  as = 9, #254,\n",
    "  bs = 1#350-254\n",
    ")\n",
    "plot(epi.data$ts, epi.data$y, xlab = \"ts\", ylab = \"y\")"
   ]
  },
  {
   "cell_type": "code",
   "execution_count": 6,
   "metadata": {},
   "outputs": [],
   "source": [
    "library(rstan)\n",
    "rstan_options(auto_write = TRUE)\n",
    "options(mc.cores = parallel::detectCores())\n",
    "SIR_code <- stan_model(file = \"/home/marcio/Projects/R0_uncertainty/R0_uncertainty/code/stan/sir_simple_I_gamma.stan\")"
   ]
  },
  {
   "cell_type": "code",
   "execution_count": null,
   "metadata": {
    "scrolled": false
   },
   "outputs": [
    {
     "name": "stderr",
     "output_type": "stream",
     "text": [
      "Warning message:\n",
      "“There were 30 transitions after warmup that exceeded the maximum treedepth. Increase max_treedepth above 10. See\n",
      "http://mc-stan.org/misc/warnings.html#maximum-treedepth-exceeded”Warning message:\n",
      "“Examine the pairs() plot to diagnose sampling problems\n",
      "”"
     ]
    },
    {
     "name": "stdout",
     "output_type": "stream",
     "text": [
      "\n",
      "Divergences:\n"
     ]
    },
    {
     "name": "stderr",
     "output_type": "stream",
     "text": [
      "0 of 4000 iterations ended with a divergence.\n"
     ]
    },
    {
     "name": "stdout",
     "output_type": "stream",
     "text": [
      "\n",
      "Tree depth:\n"
     ]
    },
    {
     "name": "stderr",
     "output_type": "stream",
     "text": [
      "30 of 4000 iterations saturated the maximum tree depth of 10 (0.75%).\n",
      "Try increasing 'max_treedepth' to avoid saturation.\n"
     ]
    },
    {
     "name": "stdout",
     "output_type": "stream",
     "text": [
      "\n",
      "Energy:\n"
     ]
    },
    {
     "name": "stderr",
     "output_type": "stream",
     "text": [
      "E-BFMI indicated no pathological behavior.\n"
     ]
    },
    {
     "name": "stdout",
     "output_type": "stream",
     "text": [
      "Inference for Stan model: sir_simple_I_gamma.\n",
      "4 chains, each with iter=2000; warmup=1000; thin=1; \n",
      "post-warmup draws per chain=1000, total post-warmup draws=4000.\n",
      "\n",
      "      mean se_mean   sd 2.5%  25%  50%  75% 97.5% n_eff Rhat\n",
      "beta  1.83    0.00 0.12 1.59 1.75 1.83 1.91  2.07  2027    1\n",
      "gamma 0.60    0.00 0.06 0.49 0.56 0.59 0.63  0.73  2985    1\n",
      "S0    1.00    0.00 0.00 1.00 1.00 1.00 1.00  1.00  1999    1\n",
      "R0    3.10    0.01 0.40 2.39 2.83 3.07 3.33  4.01  2252    1\n",
      "sigma 0.49    0.00 0.11 0.32 0.41 0.48 0.56  0.77  1790    1\n",
      "\n",
      "Samples were drawn using NUTS(diag_e) at Thu Sep 19 15:52:25 2019.\n",
      "For each parameter, n_eff is a crude measure of effective sample size,\n",
      "and Rhat is the potential scale reduction factor on split chains (at \n",
      "convergence, Rhat=1).\n"
     ]
    }
   ],
   "source": [
    "# SIR.map.s1 <- optimizing(SIR_code, data = epi.data, hessian = TRUE, verbose = TRUE)\n",
    "SIR.posterior.s1 <- sampling(SIR_code, data = epi.data, chains = 4, control = list(adapt_delta = .99))\n",
    "check_hmc_diagnostics(SIR.posterior.s1)\n",
    "print(SIR.posterior.s1, pars = c(\"beta\", \"gamma\", \"S0\", \"R0\", \"sigma\"))\n",
    "pairs(SIR.posterior.s1, pars = c(\"beta\", \"gamma\", \"S0\", \"R0\", \"sigma\"))\n",
    "stan_trace(SIR.posterior.s1, pars = c(\"beta\", \"gamma\", \"S0\", \"R0\", \"sigma\"))\n",
    "simulated_trajectories.s1 <- extract(SIR.posterior.s1, 'y_rep')$y_rep\n",
    "predicted.s1 <- data.frame(\n",
    "  time = epi.data$ts,\n",
    "  lower = apply(simulated_trajectories.s1, 2, function(x) as.numeric(quantile(x, probs = .025))),\n",
    "  post_mean = colMeans(simulated_trajectories.s1),\n",
    "  upper = apply(simulated_trajectories.s1, 2, function(x) as.numeric(quantile(x, probs = .975))),\n",
    "  s = \"1\"\n",
    ")"
   ]
  }
 ],
 "metadata": {
  "kernelspec": {
   "display_name": "R",
   "language": "R",
   "name": "ir"
  },
  "language_info": {
   "codemirror_mode": "r",
   "file_extension": ".r",
   "mimetype": "text/x-r-source",
   "name": "R",
   "pygments_lexer": "r",
   "version": "3.4.4"
  }
 },
 "nbformat": 4,
 "nbformat_minor": 2
}
