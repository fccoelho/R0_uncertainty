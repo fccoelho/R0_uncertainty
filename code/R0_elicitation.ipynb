{
 "cells": [
  {
   "cell_type": "markdown",
   "metadata": {},
   "source": [
    "Here we will elicit the parameters of a [Gamma ratio distribution](https://www.jstor.org/stable/25664553) using the [method of moments](https://en.wikipedia.org/wiki/Method_of_moments_(statistics)).\n",
    "The idea is to elicit the four parameters of the distribution to attain a certain mean, variance (standard deviation) and median."
   ]
  },
  {
   "cell_type": "code",
   "execution_count": 1,
   "metadata": {
    "collapsed": false
   },
   "outputs": [
    {
     "name": "stderr",
     "output_type": "stream",
     "text": [
      "SHA-1 hash of file is 386fc2fe8dc2168b851d8b4eeabc004a84aafe45\n"
     ]
    }
   ],
   "source": [
    "#### Script to elicit the (four) parameter of a Gamma ratio given the mean and the probability\n",
    "devtools::source_url(\"https://raw.githubusercontent.com/maxbiostat/CODE/master/R/DISTRIBUTIONS/gamma_ratio.R\")\n",
    "GR.mean <- function(k1, k2, t1, t2){\n",
    "  (k1*t1)/(t2*(k2 - 1))\n",
    "}\n",
    "GR.sd <- function(k1, k2, t1, t2){\n",
    "  sqrt(\n",
    "    (t1/t2)^2 *((k1 + k2 -1)*k1)/((k2-2)*(k2-1)^2)\n",
    "  )\n",
    "}\n",
    "qgamma.ratio <- function(p, k1, k2, t1, t2, N){\n",
    "  opt.df <- function(x){\n",
    "    p.hat <- integrate(function(y) dgamma.ratio(y, k1, t1, k2, t2, N), 0, x)$value\n",
    "    return(abs(p-p.hat))\n",
    "  }\n",
    "  Opt <- optimise(f = opt.df, lower = 0, upper = 1E3)\n",
    "  return(Opt$minimum)\n",
    "}\n",
    "lossR0 <- function(pars, N, Mean, Median, Var){\n",
    "  a1 <- pars[1]\n",
    "  a2 <- pars[2]\n",
    "  b1 <- pars[3]\n",
    "  b2 <- pars[4]\n",
    "  m <- GR.mean(k1 = a1, k2 = a2, t1 = b1*N, t2 = b2)\n",
    "  M.err <- sqrt((m-Mean)^2)\n",
    "  md <- qgamma.ratio(.5, k1 = a1, k2 = a2, t1 = b1, t2 = b2, N = 1)\n",
    "  MD.err <- sqrt((md-Median)^2)\n",
    "  s <- GR.sd(k1 = a1, k2 = a2, t1 = b1*N, t2 = b2)\n",
    "  S.err <- sqrt((s-sqrt(Var))^2)\n",
    "#     return(M.err + MD.err + S.err)\n",
    "    return(.75*M.err + .125*MD.err + .125*S.err)\n",
    "}\n"
   ]
  },
  {
   "cell_type": "code",
   "execution_count": 9,
   "metadata": {
    "collapsed": false
   },
   "outputs": [
    {
     "ename": "ERROR",
     "evalue": "Error in integrate(function(y) dgamma.ratio(y, k1, t1, k2, t2, N), 0, : non-finite function value\n",
     "output_type": "error",
     "traceback": [
      "Error in integrate(function(y) dgamma.ratio(y, k1, t1, k2, t2, N), 0, : non-finite function value\n"
     ]
    }
   ],
   "source": [
    "Nn <- 1\n",
    "Opt <- optim(par = c(.1, 2.5, 1/Nn, .1), lossR0, lower = c(0, 2, 0, 0),\n",
    "      method = \"L-BFGS-B\", Mean = 3, Median = 1, Var = 2^2, N = Nn) \n",
    "Opt.par <- Opt$par\n",
    "names(Opt.par) <- c(\"k_1\", \"k_2\", \"theta_1\", \"theta_2\")"
   ]
  },
  {
   "cell_type": "code",
   "execution_count": 8,
   "metadata": {
    "collapsed": false
   },
   "outputs": [
    {
     "data": {
      "text/html": [
       "<dl class=dl-horizontal>\n",
       "\t<dt>k_1</dt>\n",
       "\t\t<dd>0.113141395236426</dd>\n",
       "\t<dt>k_2</dt>\n",
       "\t\t<dd>2.50160121540305</dd>\n",
       "\t<dt>theta_1</dt>\n",
       "\t\t<dd>0.00558555571719997</dd>\n",
       "\t<dt>theta_2</dt>\n",
       "\t\t<dd>0.098506714206948</dd>\n",
       "</dl>\n"
      ],
      "text/latex": [
       "\\begin{description*}\n",
       "\\item[k_1] 0.113141395236426\n",
       "\\item[k_2] 2.50160121540305\n",
       "\\item[theta_1] 0.00558555571719997\n",
       "\\item[theta_2] 0.098506714206948\n",
       "\\end{description*}\n"
      ],
      "text/markdown": [
       "k_1\n",
       ":   0.113141395236426k_2\n",
       ":   2.50160121540305theta_1\n",
       ":   0.00558555571719997theta_2\n",
       ":   0.098506714206948\n",
       "\n"
      ],
      "text/plain": [
       "        k_1         k_2     theta_1     theta_2 \n",
       "0.113141395 2.501601215 0.005585556 0.098506714 "
      ]
     },
     "execution_count": 8,
     "metadata": {},
     "output_type": "execute_result"
    }
   ],
   "source": [
    "Opt.par"
   ]
  },
  {
   "cell_type": "code",
   "execution_count": 4,
   "metadata": {
    "collapsed": false
   },
   "outputs": [
    {
     "data": {
      "text/html": [
       "1.49532473979281"
      ],
      "text/latex": [
       "1.49532473979281"
      ],
      "text/markdown": [
       "1.49532473979281"
      ],
      "text/plain": [
       "[1] 1.495325"
      ]
     },
     "execution_count": 4,
     "metadata": {},
     "output_type": "execute_result"
    }
   ],
   "source": [
    "GR.mean(k1 = as.numeric(Opt.par[1]), k2 = as.numeric(Opt.par[2]), t1 = as.numeric(Opt.par[3]) * Nn, t2 = as.numeric(Opt.par[4])) ## mean"
   ]
  },
  {
   "cell_type": "code",
   "execution_count": 5,
   "metadata": {
    "collapsed": false
   },
   "outputs": [
    {
     "data": {
      "text/html": [
       "999.999928706968"
      ],
      "text/latex": [
       "999.999928706968"
      ],
      "text/markdown": [
       "999.999928706968"
      ],
      "text/plain": [
       "[1] 999.9999"
      ]
     },
     "execution_count": 5,
     "metadata": {},
     "output_type": "execute_result"
    }
   ],
   "source": [
    "qgamma.ratio(.5, k1 = Opt.par[1], k2 = Opt.par[2], t1 = Opt.par[3], t2 = Opt.par[4], N =  Nn) ## median"
   ]
  },
  {
   "cell_type": "code",
   "execution_count": 6,
   "metadata": {
    "collapsed": false
   },
   "outputs": [
    {
     "data": {
      "text/html": [
       "7.97621985852709"
      ],
      "text/latex": [
       "7.97621985852709"
      ],
      "text/markdown": [
       "7.97621985852709"
      ],
      "text/plain": [
       "[1] 7.97622"
      ]
     },
     "execution_count": 6,
     "metadata": {},
     "output_type": "execute_result"
    }
   ],
   "source": [
    "GR.sd(k1 = as.numeric(Opt.par[1]), k2 = as.numeric(Opt.par[2]), t1 = as.numeric(Opt.par[3]) * Nn, t2 = as.numeric(Opt.par[4])) ## standard deviation"
   ]
  },
  {
   "cell_type": "code",
   "execution_count": null,
   "metadata": {
    "collapsed": false
   },
   "outputs": [],
   "source": [
    "curve(dgamma(x, shape = Opt.par[1], scale = Opt.par[3]), lwd = 3, 0, 10,\n",
    "      xlab = expression(beta), ylab = \"Density\")"
   ]
  },
  {
   "cell_type": "code",
   "execution_count": null,
   "metadata": {
    "collapsed": false
   },
   "outputs": [],
   "source": [
    "curve(dgamma(x, shape = Opt.par[2], scale = Opt.par[4]), lwd = 3, 0, 10,\n",
    "      xlab = expression(gamma), ylab = \"Density\" , col = 2)"
   ]
  },
  {
   "cell_type": "code",
   "execution_count": null,
   "metadata": {
    "collapsed": false
   },
   "outputs": [],
   "source": [
    "curve(dgamma.ratio(x, k1 = Opt.par[1], k2 = Opt.par[2], t1 = Opt.par[3], t2 = Opt.par[4], N = Nn), lwd = 3, 0, 10,\n",
    "      xlab = expression(R[0]), ylab = \"Density\", col = 3)"
   ]
  },
  {
   "cell_type": "code",
   "execution_count": null,
   "metadata": {
    "collapsed": true
   },
   "outputs": [],
   "source": []
  }
 ],
 "metadata": {
  "kernelspec": {
   "display_name": "R",
   "language": "R",
   "name": "ir"
  },
  "language_info": {
   "codemirror_mode": "r",
   "file_extension": ".r",
   "mimetype": "text/x-r-source",
   "name": "R",
   "pygments_lexer": "r",
   "version": "3.2.4"
  }
 },
 "nbformat": 4,
 "nbformat_minor": 0
}
