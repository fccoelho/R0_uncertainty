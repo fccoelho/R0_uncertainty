{
 "cells": [
  {
   "cell_type": "code",
   "execution_count": 1,
   "metadata": {},
   "outputs": [],
   "source": [
    "import numpy as np\n",
    "from matplotlib import pyplot as plt\n",
    "import pystan"
   ]
  },
  {
   "cell_type": "code",
   "execution_count": 2,
   "metadata": {},
   "outputs": [
    {
     "data": {
      "text/plain": [
       "numpy.float64"
      ]
     },
     "execution_count": 2,
     "metadata": {},
     "output_type": "execute_result"
    }
   ],
   "source": [
    "np.float64"
   ]
  },
  {
   "cell_type": "code",
   "execution_count": 3,
   "metadata": {},
   "outputs": [],
   "source": [
    "#Just a set rgb colors\n",
    "tableau20 = [(31, 119, 180), (174, 199, 232), (255, 127, 14), (255, 187, 120),    \n",
    "             (44, 160, 44), (152, 223, 138), (214, 39, 40), (255, 152, 150),    \n",
    "             (148, 103, 189), (197, 176, 213), (140, 86, 75), (196, 156, 148),    \n",
    "             (227, 119, 194), (247, 182, 210), (127, 127, 127), (199, 199, 199),    \n",
    "             (188, 189, 34), (219, 219, 141), (23, 190, 207), (158, 218, 229)]\n",
    "for i in range(len(tableau20)):    \n",
    "    r, g, b = tableau20[i]    \n",
    "    tableau20[i] = (r / 255., g / 255., b / 255.) "
   ]
  },
  {
   "cell_type": "code",
   "execution_count": 4,
   "metadata": {},
   "outputs": [],
   "source": [
    "N = 1\n",
    "I0 = 0.01\n",
    "R0 = 0\n",
    "S0 = (N - I0 - R0)\n",
    "S = [S0]*100\n",
    "R = [0]*100\n",
    "I = [I0]*100\n",
    "# S2 = S1[:]\n",
    "# R2 = R1[:]\n",
    "# I2 = I1[:]\n",
    "# S3 = S1[:]\n",
    "# R3 = R1[:]\n",
    "# I3 = I1[:]\n",
    "gamma_mu = 0.1\n",
    "beta_mu = 0.6"
   ]
  },
  {
   "cell_type": "markdown",
   "metadata": {},
   "source": [
    "# Gamma distribution\n",
    "$$p(x) = x^{k-1}\\frac{e^{-x/\\theta}}{\\theta^k\\Gamma(k)},$$\n",
    "$$k = \\frac{\\mu^2}{\\sigma^2}$$\n",
    "$$\\theta = \\frac{\\sigma^2}{\\mu} = \\frac{\\mu}{k}$$\n",
    "\n",
    "# Beta distribution\n",
    "$$p(x) = \\frac{x^{\\alpha-1}(1-x)^{\\beta-1}}{B(\\alpha, \\beta)}$$\n",
    "$$\\alpha = \\frac{\\mu(1-\\mu)-\\sigma^{2}}{\\sigma^{2}\\Big(1+\\frac{\\sigma^{2}(1-\\mu)}{\\mu}\\Big)}$$\n",
    "$$\\beta = \\frac{\\alpha(1-\\mu)}{\\mu}$$"
   ]
  },
  {
   "cell_type": "code",
   "execution_count": 5,
   "metadata": {},
   "outputs": [],
   "source": [
    "# mu = beta_mu\n",
    "# sigma2 = np.square(beta/3)\n",
    "# a = (mu*(1-mu) - sigma2)/(sigma2*(1+((sigma2*(1-mu))/mu)))\n",
    "# b = a*(1-mu)/mu\n",
    "# beta = np.random.beta(a, b, 100)\n",
    "# beta"
   ]
  },
  {
   "cell_type": "code",
   "execution_count": 6,
   "metadata": {},
   "outputs": [],
   "source": [
    "mu = beta_mu\n",
    "sigma2 = np.square(mu/2 + mu/6 + mu/24 + mu/120 + mu/720)\n",
    "# sigma2 = np.square(mu/2)\n",
    "k = np.square(mu/sigma2)\n",
    "shape = k\n",
    "scale = mu/k\n",
    "beta = np.random.gamma(shape, scale, 100000).reshape(1000, 100)"
   ]
  },
  {
   "cell_type": "code",
   "execution_count": 7,
   "metadata": {},
   "outputs": [
    {
     "data": {
      "text/plain": [
       "array([[0.10647487, 0.1042766 , 0.08418635, ..., 0.10761072, 0.07401575,\n",
       "        0.08313412],\n",
       "       [0.06727617, 0.07803228, 0.06491069, ..., 0.11631229, 0.13521356,\n",
       "        0.14569363],\n",
       "       [0.07348631, 0.12263894, 0.10065276, ..., 0.04502202, 0.10352979,\n",
       "        0.12593988],\n",
       "       ...,\n",
       "       [0.05339239, 0.08031419, 0.12253155, ..., 0.05393273, 0.11105402,\n",
       "        0.05046768],\n",
       "       [0.09520242, 0.13766362, 0.11110097, ..., 0.07219387, 0.12207219,\n",
       "        0.13225719],\n",
       "       [0.13479253, 0.09006477, 0.07647822, ..., 0.07873617, 0.10495035,\n",
       "        0.06273663]])"
      ]
     },
     "execution_count": 7,
     "metadata": {},
     "output_type": "execute_result"
    }
   ],
   "source": [
    "mu = gamma_mu\n",
    "# sigma2 = np.square(mu/2 + mu/3 + mu/4)\n",
    "sigma2 = np.square(mu + mu/2 + mu/6 + mu/24 + mu/120)\n",
    "k = np.square(mu/sigma2)\n",
    "shape = k\n",
    "scale = mu/k\n",
    "gamma = np.random.gamma(shape, scale, 100000).reshape(1000, 100)\n",
    "gamma"
   ]
  },
  {
   "cell_type": "code",
   "execution_count": 8,
   "metadata": {},
   "outputs": [],
   "source": [
    "def r(R, beta, gamma):\n",
    "    R0 = beta/gamma\n",
    "    return gamma*(N - R - S0*(np.e**(-R0*R)))"
   ]
  },
  {
   "cell_type": "markdown",
   "metadata": {},
   "source": [
    "# Alternative SIR formulation (Butcher's solver)"
   ]
  },
  {
   "cell_type": "code",
   "execution_count": 9,
   "metadata": {},
   "outputs": [],
   "source": [
    "def A_SIR_Butcher_r(R, h, beta, gamma):\n",
    "    for i in range(1, 100):\n",
    "        k1 = r(R[i-1], beta[i], gamma[i])\n",
    "        k2 = r(R[i-1] + (1/4)*k1*h, beta[i], gamma[i])\n",
    "        k3 = r(R[i-1] + (1/8)*k1*h + (1/8)*k2*h, beta[i], gamma[i])\n",
    "        k4 = r(R[i-1] - (1/2)*k2*h + k3*h, beta[i], gamma[i])\n",
    "        k5 = r(R[i-1] + (3/16)*k3*h + (9/16)*k4*h, beta[i], gamma[i])\n",
    "        k6 = r(R[i-1] - (3/7)*k1*h + (2/7)*k2*h + (12/7)*k3*h - (12/7)*k4*h + (8/7)*k5*h, beta[i], gamma[i])\n",
    "        R[i] = R[i-1] + (1/90)*((7*k1) + (32 * k3) + (12 * k4) + (32 * k5) + (7*k6))*h\n",
    "    return R"
   ]
  },
  {
   "cell_type": "code",
   "execution_count": 10,
   "metadata": {},
   "outputs": [],
   "source": [
    "def A_SIR_Butcher(R, h, beta, gamma):\n",
    "    for i in range(1, 100):\n",
    "        k1 = r(R[i-1], beta, gamma)\n",
    "        k2 = r(R[i-1] + (1/4)*k1*h, beta, gamma)\n",
    "        k3 = r(R[i-1] + (1/8)*k1*h + (1/8)*k2*h, beta, gamma)\n",
    "        k4 = r(R[i-1] - (1/2)*k2*h + k3*h, beta, gamma)\n",
    "        k5 = r(R[i-1] + (3/16)*k3*h + (9/16)*k4*h, beta, gamma)\n",
    "        k6 = r(R[i-1] - (3/7)*k1*h + (2/7)*k2*h + (12/7)*k3*h - (12/7)*k4*h + (8/7)*k5*h, beta, gamma)\n",
    "        R[i] = R[i-1] + (1/90)*((7*k1) + (32 * k3) + (12 * k4) + (32 * k5) + (7*k6))*h\n",
    "    return R"
   ]
  },
  {
   "cell_type": "code",
   "execution_count": 11,
   "metadata": {},
   "outputs": [],
   "source": [
    "def dS(S, I, beta):\n",
    "    return -beta*S*I\n",
    "\n",
    "def dI(S, I, beta, gamma):\n",
    "    return -dS(I, S, beta) - gamma*I"
   ]
  },
  {
   "cell_type": "markdown",
   "metadata": {},
   "source": [
    "# SIR formulation (Butcher's solver)"
   ]
  },
  {
   "cell_type": "code",
   "execution_count": 12,
   "metadata": {},
   "outputs": [],
   "source": [
    "def SIR_Butcher(S, I, h, beta, gamma):\n",
    "    for i in range(99):\n",
    "        k11 = dS(S[i], I[i], beta)\n",
    "        k12 = dI(S[i], I[i], beta, gamma)\n",
    "\n",
    "        k21 = dS(S[i] + (1/4)*k11*h, I[i] + (1/4)*k12*h, beta)\n",
    "        k22 = dI(S[i] + (1/4)*k11*h, I[i] + (1/4)*k12*h, beta, gamma)\n",
    "\n",
    "        k31 = dS(S[i] + (1/8)*k11*h + (1/8)*k21*h, I[i] + (1/8)*k12*h + (1/8)*k22*h, beta)\n",
    "        k32 = dI(S[i] + (1/8)*k11*h + (1/8)*k21*h, I[i] + (1/8)*k12*h + (1/8)*k22*h, beta, gamma)\n",
    "\n",
    "        k41 = dS(S[i] - (1/2)*k21*h + k31*h, I[i] - (1/2)*k22*h + k32*h, beta)\n",
    "        k42 = dI(S[i] - (1/2)*k21*h + k31*h, I[i] - (1/2)*k22*h + k32*h, beta, gamma)\n",
    "\n",
    "        k51 = dS(S[i] + (3/16)*k31*h + (9/16)*k41*h, I[i] + (3/16)*k32*h + (9/16)*k42*h, beta)\n",
    "        k52 = dI(S[i] + (3/16)*k31*h + (9/16)*k41*h, I[i] + (3/16)*k32*h + (9/16)*k42*h, beta, gamma)\n",
    "\n",
    "        k61 = dS(S[i] - (3/7)*k11*h + (2/7)*k21*h + (12/7)*k31*h - (12/7)*k41*h + (8/7)*k51*h, \n",
    "                 I[i] - (3/7)*k12*h + (2/7)*k22*h + (12/7)*k32*h - (12/7)*k42*h + (8/7)*k52*h, beta)\n",
    "        k62 = dI(S[i] - (3/7)*k11*h + (2/7)*k21*h + (12/7)*k31*h - (12/7)*k41*h + (8/7)*k51*h,\n",
    "                 I[i] - (3/7)*k12*h + (2/7)*k22*h + (12/7)*k32*h - (12/7)*k42*h + (8/7)*k52*h, beta, gamma)    \n",
    "\n",
    "        S[i+1] = S[i] + (1/90)*((7*k11) + (32 * k31) + (12 * k41) + (32 * k51) + (7*k61))*h\n",
    "        I[i+1] = I[i] + (1/90)*((7*k12) + (32 * k32) + (12 * k42) + (32 * k52) + (7*k62))*h\n",
    "    return S, I"
   ]
  },
  {
   "cell_type": "markdown",
   "metadata": {},
   "source": [
    "# SIR formulation (Ruge-Kutta solver)"
   ]
  },
  {
   "cell_type": "code",
   "execution_count": 13,
   "metadata": {},
   "outputs": [],
   "source": [
    "def SIR_RK(S, I, h, beta, gamma):\n",
    "    for i in range(99):\n",
    "        k11 = dS(S[i], I[i], beta)\n",
    "        k12 = dI(S[i], I[i], beta, gamma)\n",
    "        k21 = dS(S[i] + (1/2)*k11*h, I[i] + (1/2)*k12*h, beta)\n",
    "        k22 = dI(S[i] + (1/2)*k11*h, I[i] + (1/2)*k12*h, beta, gamma)\n",
    "        k31 = dS(S[i] + (1/2)*k21*h, I[i] + (1/2)*k22*h, beta)\n",
    "        k32 = dI(S[i] + (1/2)*k21*h, I[i] + (1/2)*k22*h, beta, gamma)\n",
    "        k41 = dS(S[i] + k31*h, I[i] + k32*h, beta)\n",
    "        k42 = dI(S[i] + k31*h, I[i] + k32*h, beta, gamma)\n",
    "        S[i+1] = S[i] + (1/6)*((k11) + (2 * (k21 + k31)) + k41)*h\n",
    "        I[i+1] = I[i] + (1/6)*((k12) + (2 * (k22 + k32)) + k42)*h\n",
    "    return S, I"
   ]
  },
  {
   "cell_type": "code",
   "execution_count": 14,
   "metadata": {},
   "outputs": [
    {
     "data": {
      "image/png": "[encoded data removed]",
      "text/plain": [
       "<Figure size 720x504 with 1 Axes>"
      ]
     },
     "metadata": {},
     "output_type": "display_data"
    }
   ],
   "source": [
    "plt.figure(figsize=(10,7))\n",
    "plt.plot(list(range(100)), N - np.array(A_SIR_Butcher(R, 0.5, beta_mu, gamma_mu)) - S0*np.exp(-beta_mu/gamma_mu*np.array(A_SIR_Butcher(R, 0.5, beta_mu, gamma_mu))), color=tableau20[0], linewidth=6)\n",
    "plt.plot(list(range(100)), SIR_Butcher(S, I, 0.5, beta_mu, gamma_mu)[1], '--', color=tableau20[1], linewidth=4)\n",
    "plt.plot(list(range(100)), SIR_RK(S, I, 0.5, beta_mu, gamma_mu)[1], '*', color=tableau20[2])\n",
    "plt.savefig(\"test.png\")"
   ]
  },
  {
   "cell_type": "code",
   "execution_count": 15,
   "metadata": {},
   "outputs": [
    {
     "data": {
      "image/png": "[encoded data removed]",
      "text/plain": [
       "<Figure size 720x504 with 1 Axes>"
      ]
     },
     "metadata": {},
     "output_type": "display_data"
    }
   ],
   "source": [
    "plt.figure(figsize=(10,7))\n",
    "plt.bar(list(range(100)), np.array(A_SIR_Butcher(R, 0.5, beta_mu, gamma_mu)), color=tableau20[1])\n",
    "for i in range(200):\n",
    "    plt.plot(list(range(100)), np.array(A_SIR_Butcher(R, 0.5, beta_mu, gamma_mu)), '--', color=tableau20[i%20], linewidth=0.7)\n",
    "#     plt.plot(list(range(100)), np.array(A_SIR_Butcher_r(R, 0.5, beta[i], gamma[i])), '--', color=tableau20[i%20], linewidth=0.7)\n",
    "plt.savefig(\"R_randb.png\")"
   ]
  },
  {
   "cell_type": "code",
   "execution_count": 16,
   "metadata": {},
   "outputs": [],
   "source": [
    "drdt = np.array(A_SIR_Butcher(R, 0.5, beta_mu, gamma_mu))"
   ]
  },
  {
   "cell_type": "markdown",
   "metadata": {},
   "source": [
    "$$\\frac{dR}{dt} = \\gamma(N - R - S_{0}e^{-\\mathfrak{R}_{0}R})$$"
   ]
  },
  {
   "cell_type": "code",
   "execution_count": 17,
   "metadata": {},
   "outputs": [],
   "source": [
    "np.savetxt(\"drdt.csv\", drdt, delimiter=\",\")"
   ]
  }
 ],
 "metadata": {
  "kernelspec": {
   "display_name": "Python 3",
   "language": "python",
   "name": "python3"
  },
  "language_info": {
   "codemirror_mode": {
    "name": "ipython",
    "version": 3
   },
   "file_extension": ".py",
   "mimetype": "text/x-python",
   "name": "python",
   "nbconvert_exporter": "python",
   "pygments_lexer": "ipython3",
   "version": "3.6.7"
  }
 },
 "nbformat": 4,
 "nbformat_minor": 2
}
