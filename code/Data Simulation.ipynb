{
 "cells": [
  {
   "cell_type": "code",
   "execution_count": 1,
   "metadata": {},
   "outputs": [],
   "source": [
    "import numpy as np\n",
    "from matplotlib import pyplot as plt\n",
    "import pystan"
   ]
  },
  {
   "cell_type": "code",
   "execution_count": 2,
   "metadata": {},
   "outputs": [
    {
     "data": {
      "text/plain": [
       "numpy.float64"
      ]
     },
     "execution_count": 2,
     "metadata": {},
     "output_type": "execute_result"
    }
   ],
   "source": [
    "np.float64"
   ]
  },
  {
   "cell_type": "code",
   "execution_count": 3,
   "metadata": {},
   "outputs": [],
   "source": [
    "#Just a set rgb colors\n",
    "tableau20 = [(31, 119, 180), (174, 199, 232), (255, 127, 14), (255, 187, 120),    \n",
    "             (44, 160, 44), (152, 223, 138), (214, 39, 40), (255, 152, 150),    \n",
    "             (148, 103, 189), (197, 176, 213), (140, 86, 75), (196, 156, 148),    \n",
    "             (227, 119, 194), (247, 182, 210), (127, 127, 127), (199, 199, 199),    \n",
    "             (188, 189, 34), (219, 219, 141), (23, 190, 207), (158, 218, 229)]\n",
    "for i in range(len(tableau20)):    \n",
    "    r, g, b = tableau20[i]    \n",
    "    tableau20[i] = (r / 255., g / 255., b / 255.) "
   ]
  },
  {
   "cell_type": "code",
   "execution_count": 4,
   "metadata": {},
   "outputs": [],
   "source": [
    "N = 1\n",
    "I0 = 0.01\n",
    "R0 = 0\n",
    "S0 = (N - I0 - R0)\n",
    "S = [S0]*100\n",
    "R = [0]*100\n",
    "I = [I0]*100\n",
    "γ = 0.1\n",
    "β = 0.6"
   ]
  },
  {
   "cell_type": "markdown",
   "metadata": {},
   "source": [
    "# Gamma distribution\n",
    "$$p(x) = x^{k-1}\\frac{e^{-x/\\theta}}{\\theta^k\\Gamma(k)},$$\n",
    "$$k = \\frac{\\mu^2}{\\sigma^2}$$\n",
    "$$\\theta = \\frac{\\sigma^2}{\\mu} = \\frac{\\mu}{k}$$\n",
    "\n",
    "# Beta distribution\n",
    "$$p(x) = \\frac{x^{\\alpha-1}(1-x)^{\\beta-1}}{B(\\alpha, \\beta)}$$\n",
    "$$\\alpha = \\frac{\\mu(1-\\mu)-\\sigma^{2}}{\\sigma^{2}\\Big(1+\\frac{\\sigma^{2}(1-\\mu)}{\\mu}\\Big)}$$\n",
    "$$\\beta = \\frac{\\alpha(1-\\mu)}{\\mu}$$"
   ]
  },
  {
   "cell_type": "code",
   "execution_count": 5,
   "metadata": {},
   "outputs": [],
   "source": [
    "def r(R, β, γ):\n",
    "    R0 = β/γ\n",
    "    return γ*(N - R - S0*(np.e**(-R0*R)))"
   ]
  },
  {
   "cell_type": "markdown",
   "metadata": {},
   "source": [
    "# Alternative SIR formulation (Butcher's solver)"
   ]
  },
  {
   "cell_type": "code",
   "execution_count": 6,
   "metadata": {},
   "outputs": [],
   "source": [
    "def A_SIR_Butcher(R, h, β, γ):\n",
    "    for i in range(1, 100):\n",
    "        k1 = r(R[i-1], β, γ)\n",
    "        k2 = r(R[i-1] + (1/4)*k1*h, β, γ)\n",
    "        k3 = r(R[i-1] + (1/8)*k1*h + (1/8)*k2*h, β, γ)\n",
    "        k4 = r(R[i-1] - (1/2)*k2*h + k3*h, β, γ)\n",
    "        k5 = r(R[i-1] + (3/16)*k3*h + (9/16)*k4*h, β, γ)\n",
    "        k6 = r(R[i-1] - (3/7)*k1*h + (2/7)*k2*h + (12/7)*k3*h - (12/7)*k4*h + (8/7)*k5*h, β, γ)\n",
    "        R[i] = R[i-1] + (1/90)*((7*k1) + (32 * k3) + (12 * k4) + (32 * k5) + (7*k6))*h\n",
    "    return R"
   ]
  },
  {
   "cell_type": "code",
   "execution_count": 7,
   "metadata": {},
   "outputs": [],
   "source": [
    "drdt = np.array(A_SIR_Butcher(R, 0.5, β, γ))"
   ]
  },
  {
   "cell_type": "markdown",
   "metadata": {},
   "source": [
    "$$\\frac{dR}{dt} = \\gamma(N - R - S_{0}e^{-\\mathfrak{R}_{0}R})$$"
   ]
  },
  {
   "cell_type": "code",
   "execution_count": 23,
   "metadata": {},
   "outputs": [],
   "source": [
    "#error\n",
    "σ = np.random.lognormal(-1, 1)\n",
    "ϵ = np.random.normal(0,σ)"
   ]
  },
  {
   "cell_type": "code",
   "execution_count": 24,
   "metadata": {},
   "outputs": [],
   "source": [
    "y = drdt*np.exp(ϵ)"
   ]
  },
  {
   "cell_type": "code",
   "execution_count": 25,
   "metadata": {},
   "outputs": [
    {
     "data": {
      "image/png": "[encoded data removed]",
      "text/plain": [
       "<Figure size 720x504 with 1 Axes>"
      ]
     },
     "metadata": {},
     "output_type": "display_data"
    }
   ],
   "source": [
    "plt.figure(figsize=(10,7))\n",
    "plt.bar(list(range(100)), drdt, color=tableau20[1])\n",
    "plt.plot(list(range(100)), drdt, '--', color=tableau20[2], linewidth=0.7, label='true value')\n",
    "plt.plot(list(range(100)), y, '-', color=tableau20[4], linewidth=0.7, label='empirical')\n",
    "plt.legend()\n",
    "plt.savefig(\"R_randb.png\")"
   ]
  },
  {
   "cell_type": "code",
   "execution_count": 26,
   "metadata": {},
   "outputs": [],
   "source": [
    "np.savetxt(\"y.csv\", y, delimiter=\",\")"
   ]
  }
 ],
 "metadata": {
  "kernelspec": {
   "display_name": "Python 3",
   "language": "python",
   "name": "python3"
  },
  "language_info": {
   "codemirror_mode": {
    "name": "ipython",
    "version": 3
   },
   "file_extension": ".py",
   "mimetype": "text/x-python",
   "name": "python",
   "nbconvert_exporter": "python",
   "pygments_lexer": "ipython3",
   "version": "3.6.7"
  }
 },
 "nbformat": 4,
 "nbformat_minor": 2
}
